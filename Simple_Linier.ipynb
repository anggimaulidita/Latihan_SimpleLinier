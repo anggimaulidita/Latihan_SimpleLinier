{
  "nbformat": 4,
  "nbformat_minor": 0,
  "metadata": {
    "colab": {
      "name": "Simple Linier.ipynb",
      "provenance": [],
      "collapsed_sections": [],
      "toc_visible": true
    },
    "kernelspec": {
      "name": "python3",
      "display_name": "Python 3"
    },
    "language_info": {
      "name": "python"
    }
  },
  "cells": [
    {
      "cell_type": "markdown",
      "source": [
        "**Simple Linier Regression Data Set**"
      ],
      "metadata": {
        "id": "ufRZqj1EFOnZ"
      }
    },
    {
      "cell_type": "code",
      "execution_count": 4,
      "metadata": {
        "colab": {
          "base_uri": "https://localhost:8080/",
          "height": 206
        },
        "id": "sp2aNZjG_4b0",
        "outputId": "b3f6b19e-4510-4286-dca5-18221d43e0e2"
      },
      "outputs": [
        {
          "output_type": "execute_result",
          "data": {
            "text/plain": [
              "   diameter  harga\n",
              "0         6    7.0\n",
              "1         8    9.0\n",
              "2        10   13.0\n",
              "3        14   17.5\n",
              "4        18   20.0"
            ],
            "text/html": [
              "\n",
              "  <div id=\"df-7eaa4fd9-cb04-4d47-a016-36508305f868\">\n",
              "    <div class=\"colab-df-container\">\n",
              "      <div>\n",
              "<style scoped>\n",
              "    .dataframe tbody tr th:only-of-type {\n",
              "        vertical-align: middle;\n",
              "    }\n",
              "\n",
              "    .dataframe tbody tr th {\n",
              "        vertical-align: top;\n",
              "    }\n",
              "\n",
              "    .dataframe thead th {\n",
              "        text-align: right;\n",
              "    }\n",
              "</style>\n",
              "<table border=\"1\" class=\"dataframe\">\n",
              "  <thead>\n",
              "    <tr style=\"text-align: right;\">\n",
              "      <th></th>\n",
              "      <th>diameter</th>\n",
              "      <th>harga</th>\n",
              "    </tr>\n",
              "  </thead>\n",
              "  <tbody>\n",
              "    <tr>\n",
              "      <th>0</th>\n",
              "      <td>6</td>\n",
              "      <td>7.0</td>\n",
              "    </tr>\n",
              "    <tr>\n",
              "      <th>1</th>\n",
              "      <td>8</td>\n",
              "      <td>9.0</td>\n",
              "    </tr>\n",
              "    <tr>\n",
              "      <th>2</th>\n",
              "      <td>10</td>\n",
              "      <td>13.0</td>\n",
              "    </tr>\n",
              "    <tr>\n",
              "      <th>3</th>\n",
              "      <td>14</td>\n",
              "      <td>17.5</td>\n",
              "    </tr>\n",
              "    <tr>\n",
              "      <th>4</th>\n",
              "      <td>18</td>\n",
              "      <td>20.0</td>\n",
              "    </tr>\n",
              "  </tbody>\n",
              "</table>\n",
              "</div>\n",
              "      <button class=\"colab-df-convert\" onclick=\"convertToInteractive('df-7eaa4fd9-cb04-4d47-a016-36508305f868')\"\n",
              "              title=\"Convert this dataframe to an interactive table.\"\n",
              "              style=\"display:none;\">\n",
              "        \n",
              "  <svg xmlns=\"http://www.w3.org/2000/svg\" height=\"24px\"viewBox=\"0 0 24 24\"\n",
              "       width=\"24px\">\n",
              "    <path d=\"M0 0h24v24H0V0z\" fill=\"none\"/>\n",
              "    <path d=\"M18.56 5.44l.94 2.06.94-2.06 2.06-.94-2.06-.94-.94-2.06-.94 2.06-2.06.94zm-11 1L8.5 8.5l.94-2.06 2.06-.94-2.06-.94L8.5 2.5l-.94 2.06-2.06.94zm10 10l.94 2.06.94-2.06 2.06-.94-2.06-.94-.94-2.06-.94 2.06-2.06.94z\"/><path d=\"M17.41 7.96l-1.37-1.37c-.4-.4-.92-.59-1.43-.59-.52 0-1.04.2-1.43.59L10.3 9.45l-7.72 7.72c-.78.78-.78 2.05 0 2.83L4 21.41c.39.39.9.59 1.41.59.51 0 1.02-.2 1.41-.59l7.78-7.78 2.81-2.81c.8-.78.8-2.07 0-2.86zM5.41 20L4 18.59l7.72-7.72 1.47 1.35L5.41 20z\"/>\n",
              "  </svg>\n",
              "      </button>\n",
              "      \n",
              "  <style>\n",
              "    .colab-df-container {\n",
              "      display:flex;\n",
              "      flex-wrap:wrap;\n",
              "      gap: 12px;\n",
              "    }\n",
              "\n",
              "    .colab-df-convert {\n",
              "      background-color: #E8F0FE;\n",
              "      border: none;\n",
              "      border-radius: 50%;\n",
              "      cursor: pointer;\n",
              "      display: none;\n",
              "      fill: #1967D2;\n",
              "      height: 32px;\n",
              "      padding: 0 0 0 0;\n",
              "      width: 32px;\n",
              "    }\n",
              "\n",
              "    .colab-df-convert:hover {\n",
              "      background-color: #E2EBFA;\n",
              "      box-shadow: 0px 1px 2px rgba(60, 64, 67, 0.3), 0px 1px 3px 1px rgba(60, 64, 67, 0.15);\n",
              "      fill: #174EA6;\n",
              "    }\n",
              "\n",
              "    [theme=dark] .colab-df-convert {\n",
              "      background-color: #3B4455;\n",
              "      fill: #D2E3FC;\n",
              "    }\n",
              "\n",
              "    [theme=dark] .colab-df-convert:hover {\n",
              "      background-color: #434B5C;\n",
              "      box-shadow: 0px 1px 3px 1px rgba(0, 0, 0, 0.15);\n",
              "      filter: drop-shadow(0px 1px 2px rgba(0, 0, 0, 0.3));\n",
              "      fill: #FFFFFF;\n",
              "    }\n",
              "  </style>\n",
              "\n",
              "      <script>\n",
              "        const buttonEl =\n",
              "          document.querySelector('#df-7eaa4fd9-cb04-4d47-a016-36508305f868 button.colab-df-convert');\n",
              "        buttonEl.style.display =\n",
              "          google.colab.kernel.accessAllowed ? 'block' : 'none';\n",
              "\n",
              "        async function convertToInteractive(key) {\n",
              "          const element = document.querySelector('#df-7eaa4fd9-cb04-4d47-a016-36508305f868');\n",
              "          const dataTable =\n",
              "            await google.colab.kernel.invokeFunction('convertToInteractive',\n",
              "                                                     [key], {});\n",
              "          if (!dataTable) return;\n",
              "\n",
              "          const docLinkHtml = 'Like what you see? Visit the ' +\n",
              "            '<a target=\"_blank\" href=https://colab.research.google.com/notebooks/data_table.ipynb>data table notebook</a>'\n",
              "            + ' to learn more about interactive tables.';\n",
              "          element.innerHTML = '';\n",
              "          dataTable['output_type'] = 'display_data';\n",
              "          await google.colab.output.renderOutput(dataTable, element);\n",
              "          const docLink = document.createElement('div');\n",
              "          docLink.innerHTML = docLinkHtml;\n",
              "          element.appendChild(docLink);\n",
              "        }\n",
              "      </script>\n",
              "    </div>\n",
              "  </div>\n",
              "  "
            ]
          },
          "metadata": {},
          "execution_count": 4
        }
      ],
      "source": [
        "import pandas as pd\n",
        "\n",
        "bola = {'diameter' : [6,8,10,14,18],\n",
        "        'harga' : [7,9,13,17.5,20]}\n",
        "\n",
        "bola_df = pd.DataFrame(bola)\n",
        "bola_df"
      ]
    },
    {
      "cell_type": "code",
      "source": [
        "import matplotlib.pyplot as plt\n",
        "\n",
        "bola_df.plot(kind='scatter', x='diameter', y='harga')\n",
        "\n",
        "plt.title('Perbandingan Diameter dan Harga Bola')\n",
        "plt.xlabel('Diameter (inchi)')\n",
        "plt.ylabel('Harga(dolar)')\n",
        "plt.xlim(0,25)\n",
        "plt.ylim(0,25)\n",
        "plt.grid(True)\n",
        "plt.show()\n"
      ],
      "metadata": {
        "colab": {
          "base_uri": "https://localhost:8080/",
          "height": 295
        },
        "id": "3UCTi3jNF9xa",
        "outputId": "1dea6184-2f3a-4fda-c9dc-af3841ac30ec"
      },
      "execution_count": 5,
      "outputs": [
        {
          "output_type": "display_data",
          "data": {
            "text/plain": [
              "<Figure size 432x288 with 1 Axes>"
            ],
            "image/png": "[encoded data removed]"
          },
          "metadata": {
            "needs_background": "light"
          }
        }
      ]
    },
    {
      "cell_type": "markdown",
      "source": [
        "**Model Simple Linier Regression**"
      ],
      "metadata": {
        "id": "_nmLOn1fVIyJ"
      }
    },
    {
      "cell_type": "markdown",
      "source": [
        "1. Penyesuaian Dataset"
      ],
      "metadata": {
        "id": "_nkZwdtBVmbU"
      }
    },
    {
      "cell_type": "code",
      "source": [
        "import numpy as np\n",
        "\n",
        "x = np.array(bola_df['diameter'])\n",
        "y = np.array(bola_df['harga'])\n",
        "\n",
        "print(f'x : {x}')\n",
        "print(f'y : {y}')"
      ],
      "metadata": {
        "colab": {
          "base_uri": "https://localhost:8080/"
        },
        "id": "MGbXI2jOO2Hl",
        "outputId": "68431117-c6aa-4411-8c0e-7e93b2c18570"
      },
      "execution_count": 6,
      "outputs": [
        {
          "output_type": "stream",
          "name": "stdout",
          "text": [
            "x : [ 6  8 10 14 18]\n",
            "y : [ 7.   9.  13.  17.5 20. ]\n"
          ]
        }
      ]
    },
    {
      "cell_type": "code",
      "source": [
        "x = x.reshape(-1,1)\n",
        "x.shape"
      ],
      "metadata": {
        "colab": {
          "base_uri": "https://localhost:8080/"
        },
        "id": "E8b1GMcGWPd_",
        "outputId": "2d4b3ed3-2bcc-4187-ad6a-65ea374dba67"
      },
      "execution_count": 7,
      "outputs": [
        {
          "output_type": "execute_result",
          "data": {
            "text/plain": [
              "(5, 1)"
            ]
          },
          "metadata": {},
          "execution_count": 7
        }
      ]
    },
    {
      "cell_type": "code",
      "source": [
        "x"
      ],
      "metadata": {
        "colab": {
          "base_uri": "https://localhost:8080/"
        },
        "id": "hPYbOarvWYL_",
        "outputId": "0bf78256-c008-4f2a-c936-003393e9ccdc"
      },
      "execution_count": 8,
      "outputs": [
        {
          "output_type": "execute_result",
          "data": {
            "text/plain": [
              "array([[ 6],\n",
              "       [ 8],\n",
              "       [10],\n",
              "       [14],\n",
              "       [18]])"
            ]
          },
          "metadata": {},
          "execution_count": 8
        }
      ]
    },
    {
      "cell_type": "markdown",
      "source": [
        "**Training Simple Linier Regression Model**"
      ],
      "metadata": {
        "id": "gb2IVZ5xW0Zd"
      }
    },
    {
      "cell_type": "code",
      "source": [
        "from sklearn.linear_model import LinearRegression\n",
        "\n",
        "model = LinearRegression()\n",
        "model.fit(x, y)"
      ],
      "metadata": {
        "colab": {
          "base_uri": "https://localhost:8080/"
        },
        "id": "ITcSxfvYWe2e",
        "outputId": "8c0079c8-4b9e-497f-f5f8-00783ec2a3f4"
      },
      "execution_count": 9,
      "outputs": [
        {
          "output_type": "execute_result",
          "data": {
            "text/plain": [
              "LinearRegression()"
            ]
          },
          "metadata": {},
          "execution_count": 9
        }
      ]
    },
    {
      "cell_type": "markdown",
      "source": [
        "**Visualisasi Simple Linear Regression Model**"
      ],
      "metadata": {
        "id": "pp2zl9ghYRND"
      }
    },
    {
      "cell_type": "code",
      "source": [
        "x_vis = np.array([0, 25]).reshape(-1,1)\n",
        "y_vis = model.predict(x_vis)"
      ],
      "metadata": {
        "id": "-PFUWVCKYPGq"
      },
      "execution_count": 10,
      "outputs": []
    },
    {
      "cell_type": "code",
      "source": [
        "plt.scatter(x, y)\n",
        "plt.plot(x_vis, y_vis, '-r')\n",
        "\n",
        "plt.title('perbandingan diameter dan harga bola')\n",
        "plt.xlabel('Diameter (inchi)')\n",
        "plt.ylabel('harga (dollar)')\n",
        "plt.xlim(0, 25)\n",
        "plt.ylim(0, 25)\n",
        "plt.grid()\n",
        "plt.show()"
      ],
      "metadata": {
        "colab": {
          "base_uri": "https://localhost:8080/",
          "height": 295
        },
        "id": "KRO6kK1VYoc8",
        "outputId": "6615126e-d2fc-461a-90d7-5d13ea2c50d9"
      },
      "execution_count": 11,
      "outputs": [
        {
          "output_type": "display_data",
          "data": {
            "text/plain": [
              "<Figure size 432x288 with 1 Axes>"
            ],
            "image/png": "[encoded data removed]"
          },
          "metadata": {
            "needs_background": "light"
          }
        }
      ]
    },
    {
      "cell_type": "code",
      "source": [
        "print(f'intercept: {model.intercept_}')\n",
        "print(f'slope: {model.coef_}')"
      ],
      "metadata": {
        "colab": {
          "base_uri": "https://localhost:8080/"
        },
        "id": "nTX7qa5ZZw3S",
        "outputId": "2ad56145-97a4-4f8b-ad62-9463f1547e06"
      },
      "execution_count": 12,
      "outputs": [
        {
          "output_type": "stream",
          "name": "stdout",
          "text": [
            "intercept: 0.7241379310344875\n",
            "slope: [1.12284483]\n"
          ]
        }
      ]
    },
    {
      "cell_type": "markdown",
      "source": [
        "**Mencari Nilai Slope**"
      ],
      "metadata": {
        "id": "k9TD34mrYvyR"
      }
    },
    {
      "cell_type": "code",
      "source": [
        "print(f'x:\\n{x}\\n')\n",
        "print(f'x flatten: {x.flatten()}\\n')\n",
        "print(f'y: {y}')"
      ],
      "metadata": {
        "colab": {
          "base_uri": "https://localhost:8080/"
        },
        "id": "q-LszJKNaPGx",
        "outputId": "e1df72f2-083c-4629-b3fc-a06ac77170d3"
      },
      "execution_count": 13,
      "outputs": [
        {
          "output_type": "stream",
          "name": "stdout",
          "text": [
            "x:\n",
            "[[ 6]\n",
            " [ 8]\n",
            " [10]\n",
            " [14]\n",
            " [18]]\n",
            "\n",
            "x flatten: [ 6  8 10 14 18]\n",
            "\n",
            "y: [ 7.   9.  13.  17.5 20. ]\n"
          ]
        }
      ]
    },
    {
      "cell_type": "markdown",
      "source": [
        "**Varience**"
      ],
      "metadata": {
        "id": "1xELpjkBbTUN"
      }
    },
    {
      "cell_type": "code",
      "source": [
        "varience_x = np.var(x.flatten(), ddof=1)\n",
        "\n",
        "print(f'varience: {varience_x}')"
      ],
      "metadata": {
        "colab": {
          "base_uri": "https://localhost:8080/"
        },
        "id": "dCe4SdPxbOcP",
        "outputId": "04872a24-44dd-492b-ca61-dc9e1672b2db"
      },
      "execution_count": 14,
      "outputs": [
        {
          "output_type": "stream",
          "name": "stdout",
          "text": [
            "varience: 23.2\n"
          ]
        }
      ]
    },
    {
      "cell_type": "markdown",
      "source": [
        "**Covarience**"
      ],
      "metadata": {
        "id": "x28gk-Heb1-1"
      }
    },
    {
      "cell_type": "code",
      "source": [
        "np.cov(x.flatten(), y)"
      ],
      "metadata": {
        "colab": {
          "base_uri": "https://localhost:8080/"
        },
        "id": "6XCgeBcVb1hY",
        "outputId": "b21194e4-9846-48e6-bc77-2bc5c63e5d05"
      },
      "execution_count": 15,
      "outputs": [
        {
          "output_type": "execute_result",
          "data": {
            "text/plain": [
              "array([[23.2 , 26.05],\n",
              "       [26.05, 30.2 ]])"
            ]
          },
          "metadata": {},
          "execution_count": 15
        }
      ]
    },
    {
      "cell_type": "code",
      "source": [
        "covariance_xy = np.cov(x.flatten(), y)[0][1]\n",
        "print(f'covariance: {covariance_xy}')"
      ],
      "metadata": {
        "colab": {
          "base_uri": "https://localhost:8080/"
        },
        "id": "wNhToodzbyOr",
        "outputId": "6626cfaf-5bf4-4e0d-f564-6b5bc2ee470d"
      },
      "execution_count": 20,
      "outputs": [
        {
          "output_type": "stream",
          "name": "stdout",
          "text": [
            "covariance: 26.049999999999997\n"
          ]
        }
      ]
    },
    {
      "cell_type": "markdown",
      "source": [
        "**Nilai Slope**"
      ],
      "metadata": {
        "id": "eFS9eQW_d0xo"
      }
    },
    {
      "cell_type": "code",
      "source": [
        "slope = covariance_xy / varience_x\n",
        "\n",
        "print(f'slope: {slope}')"
      ],
      "metadata": {
        "colab": {
          "base_uri": "https://localhost:8080/"
        },
        "id": "YMAeo5SCdUll",
        "outputId": "7631f5ea-1698-4ba1-cf2e-b30cc7122312"
      },
      "execution_count": 22,
      "outputs": [
        {
          "output_type": "stream",
          "name": "stdout",
          "text": [
            "slope: 1.1228448275862069\n"
          ]
        }
      ]
    },
    {
      "cell_type": "markdown",
      "source": [
        "**Mencari Nilai Intercept**"
      ],
      "metadata": {
        "id": "BACErx6wgCgu"
      }
    },
    {
      "cell_type": "code",
      "source": [
        "intercept = np.mean(y) - slope * np.mean(x)\n",
        "\n",
        "print(f'intercept: {intercept}')"
      ],
      "metadata": {
        "colab": {
          "base_uri": "https://localhost:8080/"
        },
        "id": "41kXzls1f2rN",
        "outputId": "7ec6700b-2a54-46d0-ecdf-24e0e7edaa38"
      },
      "execution_count": 23,
      "outputs": [
        {
          "output_type": "stream",
          "name": "stdout",
          "text": [
            "intercept: 0.724137931034484\n"
          ]
        }
      ]
    },
    {
      "cell_type": "markdown",
      "source": [
        "**Prediksi Harga Bola Berdasarkan Ukuran Diameter**"
      ],
      "metadata": {
        "id": "Y9P8_P4JgdXt"
      }
    },
    {
      "cell_type": "code",
      "source": [
        "diameter_bola = np.array([7,13,15]).reshape(-1,1)\n",
        "diameter_bola"
      ],
      "metadata": {
        "colab": {
          "base_uri": "https://localhost:8080/"
        },
        "id": "hKNmHJi0gYsX",
        "outputId": "a8cd1ef2-089c-47da-c97e-576120971063"
      },
      "execution_count": 24,
      "outputs": [
        {
          "output_type": "execute_result",
          "data": {
            "text/plain": [
              "array([[ 7],\n",
              "       [13],\n",
              "       [15]])"
            ]
          },
          "metadata": {},
          "execution_count": 24
        }
      ]
    },
    {
      "cell_type": "markdown",
      "source": [
        "**Prediksi Harga Bola**"
      ],
      "metadata": {
        "id": "709i1rlehcvA"
      }
    },
    {
      "cell_type": "code",
      "source": [
        "prediksi_harga = model.predict(diameter_bola)\n",
        "prediksi_harga"
      ],
      "metadata": {
        "colab": {
          "base_uri": "https://localhost:8080/"
        },
        "id": "q3fbIJ9ghZ1x",
        "outputId": "d54e8a8e-cc9d-4c88-a5b9-a7586189d33e"
      },
      "execution_count": 25,
      "outputs": [
        {
          "output_type": "execute_result",
          "data": {
            "text/plain": [
              "array([ 8.58405172, 15.32112069, 17.56681034])"
            ]
          },
          "metadata": {},
          "execution_count": 25
        }
      ]
    },
    {
      "cell_type": "code",
      "source": [
        "for dmtr, hrg in zip(diameter_bola, prediksi_harga):\n",
        "  print(f'Diameter : {dmtr} prediksi harga: {hrg}')"
      ],
      "metadata": {
        "colab": {
          "base_uri": "https://localhost:8080/"
        },
        "id": "8guTOTwHhiAG",
        "outputId": "3f02ff71-861d-4be5-beab-ac1bad8efb7d"
      },
      "execution_count": 26,
      "outputs": [
        {
          "output_type": "stream",
          "name": "stdout",
          "text": [
            "Diameter : [7] prediksi harga: 8.584051724137934\n",
            "Diameter : [13] prediksi harga: 15.321120689655174\n",
            "Diameter : [15] prediksi harga: 17.566810344827587\n"
          ]
        }
      ]
    },
    {
      "cell_type": "markdown",
      "source": [
        "**Evaluasi Simple Linear Regression Model Training & Testing Dataset**"
      ],
      "metadata": {
        "id": "LQpfwEC7hrt1"
      }
    },
    {
      "cell_type": "code",
      "source": [
        "x_train = np.array([6,8,10,14,18]).reshape(-1,1)\n",
        "y_train = np.array([7,9,13,17.5,20])\n",
        "\n",
        "x_test = np.array([8,9,11,16,12]).reshape(-1,1)\n",
        "y_test = np.array([11,8.5,15,18,11])"
      ],
      "metadata": {
        "id": "m9brfNplhpJc"
      },
      "execution_count": 28,
      "outputs": []
    },
    {
      "cell_type": "markdown",
      "source": [
        "**Training Simple Linear Regression Model**"
      ],
      "metadata": {
        "id": "zcSAnTJwiBLs"
      }
    },
    {
      "cell_type": "code",
      "source": [
        "model = LinearRegression()\n",
        "model.fit(x_train, y_train)\n",
        "LinearRegression(copy_X=True, fit_intercept=True, n_jobs=None, normalize=False)"
      ],
      "metadata": {
        "colab": {
          "base_uri": "https://localhost:8080/"
        },
        "id": "4RJSLGCJh29J",
        "outputId": "b6a8b068-0f1b-4f77-8dfc-90755da058e0"
      },
      "execution_count": 29,
      "outputs": [
        {
          "output_type": "execute_result",
          "data": {
            "text/plain": [
              "LinearRegression(normalize=False)"
            ]
          },
          "metadata": {},
          "execution_count": 29
        }
      ]
    },
    {
      "cell_type": "markdown",
      "source": [
        "**Evauasi Linear Regression Model**"
      ],
      "metadata": {
        "id": "tM1jGZmtiUji"
      }
    },
    {
      "cell_type": "code",
      "source": [
        "from sklearn.metrics import r2_score\n",
        "\n",
        "y_pred = model.predict(x_test)\n",
        "\n",
        "r_squared = r2_score(y_test, y_pred)\n",
        "print(f'R-squared: {r_squared}')"
      ],
      "metadata": {
        "colab": {
          "base_uri": "https://localhost:8080/"
        },
        "id": "uYi4afoAiMyj",
        "outputId": "221ff276-8a51-4838-f72e-c91dcc569d07"
      },
      "execution_count": 30,
      "outputs": [
        {
          "output_type": "stream",
          "name": "stdout",
          "text": [
            "R-squared: 0.6213315163349296\n"
          ]
        }
      ]
    },
    {
      "cell_type": "code",
      "source": [
        ""
      ],
      "metadata": {
        "id": "qGeDPJsaifqX"
      },
      "execution_count": null,
      "outputs": []
    }
  ]
}